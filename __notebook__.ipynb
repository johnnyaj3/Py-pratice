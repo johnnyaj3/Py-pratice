{
 "cells": [
  {
   "cell_type": "markdown",
   "metadata": {
    "_cell_guid": "7c8efaff-a9e4-603d-b06b-afb5cda9b360"
   },
   "source": [
    "# Titanic Machine Learning\n",
    "### Tony Reina\n",
    "### Last update: 12 Oct 2016\n",
    "#### Here's the Titanic machine learning dataset from [Kaggle](https://www.kaggle.com/c/titanic). I'm analyzing it using Scikit-Learn's Adaptive Boost [adaboost](http://scikit-learn.org/stable/modules/ensemble.html#adaboost).\n",
    "\n",
    "The Titanic dataset is a good set to start learning data science. It's small enough to work through in a single day (or two). It has mixed data types (numeric and non-numeric). It has missing values and errorneous data to handle. And-- even with the simplest of data analysis techniques-- you can get a prediction accuracy greater than 70% without a lot of effort.  "
   ]
  },
  {
   "cell_type": "markdown",
   "metadata": {
    "_cell_guid": "f53260fa-8645-0a07-05c4-48f3041cdb41"
   },
   "source": [
    "## Import the python libraries\n",
    "\n",
    "First, we just need to import the Python libraries for loading and pre-processing datasets ([pandas](http://pandas.pydata.org/), [numpy](http://numpy.org)) and plotting data ([matplotlib](http://matplotlib.org) and [seaborn](https://pypi.python.org/pypi/seaborn)). Strictly speaking, you don't need the plotting stuff to run the code; however, good analysis demands that we visually inspect the data before we run it through models. The better we can pre-process the data (i.e. determine possible trends, identify possibly significant variables, remove/handle missing values), the better our model will be."
   ]
  },
  {
   "cell_type": "code",
   "execution_count": 1,
   "metadata": {
    "_cell_guid": "7ef454b8-bd4c-960d-e775-bc51588788de"
   },
   "outputs": [],
   "source": [
    "import pandas as pd              # pandas is great for managing datasets as a single object\n",
    "import numpy as np               # numpy has great matrix/math operations on arrays\n",
    "\n",
    "import matplotlib.pyplot as plt  # allows you to print figures and charts\n",
    "import seaborn as sns            # a fancy chart add-on for matplotlib\n",
    "\n",
    "# This command creates the figures and charts within the Jupyter notebook\n",
    "%matplotlib inline     "
   ]
  },
  {
   "cell_type": "markdown",
   "metadata": {
    "_cell_guid": "a9ebdcd1-8222-30bc-3d52-a5bcb3eff3b7"
   },
   "source": [
    "## Pre-processing functions\n",
    "These functions are used to pre-process the data (which is stored in a Pandas dataframe, `df`). According to the [Kaggle website](https://www.kaggle.com/c/titanic/data), the data looks like this:\n",
    "\n",
    "| Variable Name  | Description                        | Type |\n",
    "| -------------- | ---------------------------------- | ---- |\n",
    "| survival       | Survival  (**Our model tries to predict this based on the other variables.**)                         | number  |\n",
    "|                | Values: (0 = No; 1 = Yes)                  | \n",
    "| pclass         | Passenger Class                    | number  |\n",
    "|                | Values: (1 = 1st; 2 = 2nd; 3 = 3rd)  |\n",
    "| name           | Name                               | string |\n",
    "| sex            | Sex                                | string |\n",
    "|                | Values: (female, male) | \n",
    "| age            | Age                                | number |\n",
    "| sibsp          | Number of Siblings/Spouses Aboard  | number |\n",
    "| parch          | Number of Parents/Children Aboard  | number |\n",
    "| ticket         | Ticket Number                      | string |\n",
    "| fare           | Passenger Fare                     | number |\n",
    "| cabin          | Cabin                              | string |\n",
    "|embarked        | Port of Embarkation                | character |\n",
    "|                | Values: (C = Cherbourg; Q = Queenstown; S = Southampton) |\n",
    "\n",
    "For example, in one function, we replace the text values for the 'Embarked' field with numbers. For example, the embarkation port labeled 'S' becomes 0, 'C' becomes 1, and 'Q' becomes 2.\n",
    "\n",
    "Later on in this notebook, we'll use the [scikit-learn package](http://scikit-learn.org) to create models for the data. Scikit-learn assumes that your data is all numbers-- *it can't read text*. So we need to substitute number assignments for the text fields. For example, for the sex field, we can replace the values 0 for females and 1 for males; or, we can have 34 for males and 123 for females (or -7.8 for males and 999.123 for females). The number doesn't matter so long as it is consistent-- males get one number and females get a different number. This should be done for an non-numeric field.\n",
    "\n",
    "We also have functions which replace the missing data (NaN) with the mean or median value within that data field. Sometimes we even drop fields if they have too many missing values or if they can't possibly be associated with the prediction. For example, the name of the person probably doesn't predict if they survived, but their age probably does."
   ]
  },
  {
   "cell_type": "code",
   "execution_count": 2,
   "metadata": {
    "_cell_guid": "a2f45ec3-3fa6-9b35-7fd9-4ceeb6672846",
    "collapsed": true
   },
   "outputs": [],
   "source": [
    "'''\n",
    "This calls all of the preprocessing functions.\n",
    "Preprocessing should be done exactly the same on both the training and testing data sets.\n",
    "'''\n",
    "\n",
    "def preprocessData(df):\n",
    "    \n",
    "    # Convert the embarkation field from categorical (\"S\", \"C\", \"Q\")\n",
    "    # to numeric (0,1,2)\n",
    "    df = convertEmbarked(df)\n",
    "    \n",
    "    # Convert sex. Female = 0, Male = 1\n",
    "    df = convertSex(df)\n",
    "\n",
    "    df = addFamilyFactor(df)\n",
    "    \n",
    "    df = addTitles(df)\n",
    "\n",
    "    # Remove irrelevant and non-numeric columns (features)\n",
    "    df = df.drop(['Name', 'Cabin', 'PassengerId', 'Ticket'], axis=1) \n",
    "\n",
    "    # Replace the missing values (NaN) with the mean value for that field\n",
    "    df = replaceWithMean(df)\n",
    "\n",
    "    return df"
   ]
  },
  {
   "cell_type": "code",
   "execution_count": 3,
   "metadata": {
    "_cell_guid": "943e019d-99e0-3593-ae1a-e4367a454c82",
    "collapsed": true
   },
   "outputs": [],
   "source": [
    "'''\n",
    "Convert the sex field to numeric\n",
    "'''\n",
    "def convertSex(df):\n",
    "    \n",
    "    # Convert the 'male'/'female' strings to integer classifiers.\n",
    "    # Female = 0, Male = 1\n",
    "    # Create a new column called \"Gender\" which is a mapping of the \"Sex\" column into integer values\n",
    "    df[\"Gender\"] = df[\"Sex\"].map( {\"female\": 0, \"male\": 1} ).astype(int)\n",
    "    # Now drop the \"Sex\" column since we've already replaced it by the integer column \"Gender\"\n",
    "    df = df.drop(['Sex'], axis=1)\n",
    "    \n",
    "    return df\n",
    "    "
   ]
  },
  {
   "cell_type": "code",
   "execution_count": 4,
   "metadata": {
    "_cell_guid": "c264bc1d-48b3-7b61-a4fa-7a18f95fc5cc"
   },
   "outputs": [],
   "source": [
    "'''\n",
    "Scikit-learn can only handle numbers.\n",
    "So let's replace the text values for the 'Embarked' field with numbers. \n",
    "For example, the embarkation port labeled 'S' becomes 0, 'C' becomes 1, and 'Q' becomes 2.\n",
    "'''\n",
    "def convertEmbarked(df):\n",
    "    \n",
    "    if ('Embarked' in df.columns) :  # If the field 'Embarked' is in the pandas dataframe df\n",
    "        \n",
    "        # missing value, fill na with most often occured value\n",
    "        if (len(df[df[\"Embarked\"].isnull()]) > 0):\n",
    "\n",
    "            # We need to get rid of missing values (not-a-number, NaN)\n",
    "            # http://pandas.pydata.org/pandas-docs/stable/generated/pandas.DataFrame.mode.html\n",
    "            # If you want to impute missing values with the mode in a dataframe df, you can just do this:\n",
    "            df.loc[df[\"Embarked\"].isnull(), 'Embarked'] = df[\"Embarked\"].dropna().mode().iloc[0]\n",
    "\n",
    "        ports = list(enumerate(np.unique(df[\"Embarked\"])))  # Get the list of unique port IDs\n",
    "        port_dict = { name: i for i, name in ports } # Create a dictionary of the different port IDs\n",
    "        df[\"Embarked\"] = df[\"Embarked\"].map( lambda x: port_dict[x]).astype(int)  # Reassign the port IDs to numbers\n",
    "        \n",
    "    return df"
   ]
  },
  {
   "cell_type": "markdown",
   "metadata": {
    "_cell_guid": "873fe066-ddf3-3a32-2cd3-5b1efa1093d4"
   },
   "source": [
    "#### Titles\n",
    "The `Names` field of our data includes titles. So perhaps someone like _Duff Gordon, Lady. (Lucille Christiana Sutherland)_ will get a lifeboat before _Dooley, Mr. Patrick_ (apologies to Mr. Dooley). Of course, that's a guess, but it's probably a good one knowing a little bit about the tragic event. If that's the case, then let's parse the `Name` field for titles and add a new column called `Titles` which has a numeric value based on how important we think the person is."
   ]
  },
  {
   "cell_type": "code",
   "execution_count": 5,
   "metadata": {
    "_cell_guid": "7e66a8ef-a0f7-c6f3-7dc9-45e152e418b8",
    "collapsed": true
   },
   "outputs": [],
   "source": [
    "def addTitles(df):\n",
    "    \n",
    "    # we extract the title from each name\n",
    "    combined = df['Name'].map(lambda name:name.split(',')[1].split('.')[0].strip())\n",
    "    \n",
    "    # a map of more aggregated titles\n",
    "    Title_Dictionary = {\n",
    "                        \"Capt\":       1,\n",
    "                        \"Col\":        1,\n",
    "                        \"Major\":      1,\n",
    "                        \"Jonkheer\":   3,\n",
    "                        \"Don\":        3,\n",
    "                        \"Sir\" :       3,\n",
    "                        \"Dr\":         2,\n",
    "                        \"Rev\":        1,\n",
    "                        \"the Countess\":3,\n",
    "                        \"Dona\":       3,\n",
    "                        \"Mme\":        0,\n",
    "                        \"Mlle\":       0,\n",
    "                        \"Ms\":         0,\n",
    "                        \"Mr\" :        0,\n",
    "                        \"Mrs\" :       0,\n",
    "                        \"Miss\" :      0,\n",
    "                        \"Master\" :    1,\n",
    "                        \"Lady\" :      3\n",
    "\n",
    "                        }\n",
    "    \n",
    "    # we map each title\n",
    "    df['Title'] = combined.map(Title_Dictionary)\n",
    "    \n",
    "    return df"
   ]
  },
  {
   "cell_type": "code",
   "execution_count": 6,
   "metadata": {
    "_cell_guid": "a912a187-7ea9-6578-381d-cc476194587c",
    "collapsed": true
   },
   "outputs": [],
   "source": [
    "'''\n",
    "Replace any missing values (NaN) with the mean value for that column\n",
    "'''\n",
    "def replaceWithMean(df):\n",
    "    \n",
    "    # Replace all NaNs in a Dataframe with the mean of that column (field).\n",
    "    # I think this only works for numbers (int, float) \n",
    "    # You should do this as the last step of pre-processing in case you want to replace the NaNs\n",
    "    # with some other method. Once you run this, all of the NaNs in the dataframe are gone.\n",
    "    df = df.fillna(df.mean())\n",
    "    return df"
   ]
  },
  {
   "cell_type": "code",
   "execution_count": 7,
   "metadata": {
    "_cell_guid": "17c4ec3b-0a45-cd20-af4e-14f1f94662d3",
    "collapsed": true
   },
   "outputs": [],
   "source": [
    "'''\n",
    "There are two \"family\" variables in the original data. This combines them both into one variable.\n",
    "'''\n",
    "def addFamilyFactor(df):\n",
    "    # Add a category called FamilyFactor\n",
    "    # Perhaps people with larger families had a greater probablity of rescue?\n",
    "    # If I just add the two together, then the new catgegory is just a linear transform and\n",
    "    # won't really add new info. So I add and then square the value. \n",
    "    df['FamilyFactor'] = np.power(df.SibSp + df.Parch, 2)\n",
    "    \n",
    "    return df"
   ]
  },
  {
   "cell_type": "markdown",
   "metadata": {
    "_cell_guid": "c42f8790-1337-6d41-721b-282b24276e29"
   },
   "source": [
    "### Read the training data\n",
    "The following cells read in the training data from the comma-separated data file `train.csv`. We're using pandas to store the data as an object because pandas is really good at data manipulation and many other libraries (numpy/scikit/matplotlib) work well with pandas objects."
   ]
  },
  {
   "cell_type": "code",
   "execution_count": 8,
   "metadata": {
    "_cell_guid": "ea02ac49-ffb0-25b8-a82d-ef2c02f7e07f"
   },
   "outputs": [
    {
     "name": "stdout",
     "output_type": "stream",
     "text": [
      "<class 'pandas.core.frame.DataFrame'>\n",
      "RangeIndex: 891 entries, 0 to 890\n",
      "Data columns (total 12 columns):\n",
      "PassengerId    891 non-null int64\n",
      "Survived       891 non-null int64\n",
      "Pclass         891 non-null int64\n",
      "Name           891 non-null object\n",
      "Sex            891 non-null object\n",
      "Age            714 non-null float64\n",
      "SibSp          891 non-null int64\n",
      "Parch          891 non-null int64\n",
      "Ticket         891 non-null object\n",
      "Fare           891 non-null float64\n",
      "Cabin          204 non-null object\n",
      "Embarked       889 non-null object\n",
      "dtypes: float64(2), int64(5), object(5)\n",
      "memory usage: 83.6+ KB\n"
     ]
    }
   ],
   "source": [
    "'''\n",
    "Read the training data from csv file\n",
    "'''\n",
    "train_df = pd.read_csv('../input/train.csv', header=0, dtype={\"Age\": np.float64})  # Load the train file into a dataframe\n",
    "\n",
    "# Get the basic info for the data in this file\n",
    "train_df.info()"
   ]
  },
  {
   "cell_type": "markdown",
   "metadata": {
    "_cell_guid": "3a7b41aa-dbff-3cc6-ddab-d66dfc4d1e4c"
   },
   "source": [
    "### Use Seaborn (matplotlib wrapper) to print pretty pictures of our raw data\n",
    "Here we show how to plot the raw data from the 'Embarked' variable. Note that if you embarked at 'C' (Cherbourg), then you had a better than 50% chance of surviving whereas the other two ports had less than 40% chance of surviving. It's not a huge correlation, but it might be helpful when combined with other features. So embarkation site might be a useful feature to use in our prediction model.\n",
    "\n",
    "You can try this approach on the other variables (e.g. sex, age) to see how they influence the survival rate. This is one method to select which features (i.e. fields/columns) you'll use in the final model.\n",
    "\n",
    "Remember, the [adaptive boosting](https://en.wikipedia.org/wiki/AdaBoost) method is good at taking weak classifiers and combining them (in a weighted way) to create strong prediction models. So many poorly-correlated variables might be as useful as a strongly-correlated one."
   ]
  },
  {
   "cell_type": "code",
   "execution_count": 9,
   "metadata": {
    "_cell_guid": "13e54787-e7d3-4d19-e29d-8eae38664a51"
   },
   "outputs": [
    {
     "data": {
      "text/plain": [
       "<matplotlib.text.Text at 0x7fe8064dce10>"
      ]
     },
     "execution_count": 9,
     "metadata": {},
     "output_type": "execute_result"
    },
    {
     "data": {
      "image/png": "[encoded data removed]",
      "text/plain": [
       "<matplotlib.figure.Figure at 0x7fe809591f60>"
      ]
     },
     "metadata": {},
     "output_type": "display_data"
    }
   ],
   "source": [
    "# Setup a plot with 3 subplots side by side\n",
    "fig, (axis1,axis2,axis3) = plt.subplots(1,3,figsize=(15,5))\n",
    "\n",
    "# Count plot of how many people embarked at each location\n",
    "# countplot is for categorial data, barplot for quantitative data\n",
    "sns.countplot(x=\"Embarked\", data=train_df, ax=axis1)\n",
    "axis1.set_title(\"# passengers per embarkation site\")\n",
    "\n",
    "# Comparing survivors versus fatalities as a function of embarkation\n",
    "sns.countplot(x=\"Survived\", hue=\"Embarked\", data=train_df, order=[1,0], ax=axis2)\n",
    "axis2.set_title(\"Survivors versus Fatalities\")\n",
    "\n",
    "# group by embarked, and get the mean for survived passengers for each value in Embarked\n",
    "embark_perc = train_df[[\"Embarked\", \"Survived\"]].groupby(['Embarked'],as_index=False).mean()\n",
    "sns.barplot(x='Embarked', y='Survived', data=embark_perc,order=['S','C','Q'],ax=axis3)\n",
    "axis3.set_title(\"Survival versus embarkation\")"
   ]
  },
  {
   "cell_type": "markdown",
   "metadata": {
    "_cell_guid": "cc4c57be-ea9a-be8a-7ffa-d5b50e47d447"
   },
   "source": [
    "### Pre-process the data\n",
    "We need to do something with the missing values, text strings, and irrelevant fields."
   ]
  },
  {
   "cell_type": "code",
   "execution_count": 10,
   "metadata": {
    "_cell_guid": "38b078be-f217-4060-3b0e-836f19296b5b"
   },
   "outputs": [],
   "source": [
    "train_df = preprocessData(train_df)"
   ]
  },
  {
   "cell_type": "code",
   "execution_count": 11,
   "metadata": {
    "_cell_guid": "519552bf-3f2a-bb24-0f46-2ee56addf3e8"
   },
   "outputs": [
    {
     "data": {
      "text/html": [
       "<div>\n",
       "<table border=\"1\" class=\"dataframe\">\n",
       "  <thead>\n",
       "    <tr style=\"text-align: right;\">\n",
       "      <th></th>\n",
       "      <th>Survived</th>\n",
       "      <th>Pclass</th>\n",
       "      <th>Age</th>\n",
       "      <th>SibSp</th>\n",
       "      <th>Parch</th>\n",
       "      <th>Fare</th>\n",
       "      <th>Embarked</th>\n",
       "      <th>Gender</th>\n",
       "      <th>FamilyFactor</th>\n",
       "      <th>Title</th>\n",
       "    </tr>\n",
       "  </thead>\n",
       "  <tbody>\n",
       "    <tr>\n",
       "      <th>count</th>\n",
       "      <td>891.000000</td>\n",
       "      <td>891.000000</td>\n",
       "      <td>891.000000</td>\n",
       "      <td>891.000000</td>\n",
       "      <td>891.000000</td>\n",
       "      <td>891.000000</td>\n",
       "      <td>891.000000</td>\n",
       "      <td>891.000000</td>\n",
       "      <td>891.000000</td>\n",
       "      <td>891.000000</td>\n",
       "    </tr>\n",
       "    <tr>\n",
       "      <th>mean</th>\n",
       "      <td>0.383838</td>\n",
       "      <td>2.308642</td>\n",
       "      <td>29.699118</td>\n",
       "      <td>0.523008</td>\n",
       "      <td>0.381594</td>\n",
       "      <td>32.204208</td>\n",
       "      <td>1.536476</td>\n",
       "      <td>0.647587</td>\n",
       "      <td>3.418631</td>\n",
       "      <td>0.089787</td>\n",
       "    </tr>\n",
       "    <tr>\n",
       "      <th>std</th>\n",
       "      <td>0.486592</td>\n",
       "      <td>0.836071</td>\n",
       "      <td>13.002015</td>\n",
       "      <td>1.102743</td>\n",
       "      <td>0.806057</td>\n",
       "      <td>49.693429</td>\n",
       "      <td>0.791503</td>\n",
       "      <td>0.477990</td>\n",
       "      <td>11.181689</td>\n",
       "      <td>0.362291</td>\n",
       "    </tr>\n",
       "    <tr>\n",
       "      <th>min</th>\n",
       "      <td>0.000000</td>\n",
       "      <td>1.000000</td>\n",
       "      <td>0.420000</td>\n",
       "      <td>0.000000</td>\n",
       "      <td>0.000000</td>\n",
       "      <td>0.000000</td>\n",
       "      <td>0.000000</td>\n",
       "      <td>0.000000</td>\n",
       "      <td>0.000000</td>\n",
       "      <td>0.000000</td>\n",
       "    </tr>\n",
       "    <tr>\n",
       "      <th>25%</th>\n",
       "      <td>0.000000</td>\n",
       "      <td>2.000000</td>\n",
       "      <td>22.000000</td>\n",
       "      <td>0.000000</td>\n",
       "      <td>0.000000</td>\n",
       "      <td>7.910400</td>\n",
       "      <td>1.000000</td>\n",
       "      <td>0.000000</td>\n",
       "      <td>0.000000</td>\n",
       "      <td>0.000000</td>\n",
       "    </tr>\n",
       "    <tr>\n",
       "      <th>50%</th>\n",
       "      <td>0.000000</td>\n",
       "      <td>3.000000</td>\n",
       "      <td>29.699118</td>\n",
       "      <td>0.000000</td>\n",
       "      <td>0.000000</td>\n",
       "      <td>14.454200</td>\n",
       "      <td>2.000000</td>\n",
       "      <td>1.000000</td>\n",
       "      <td>0.000000</td>\n",
       "      <td>0.000000</td>\n",
       "    </tr>\n",
       "    <tr>\n",
       "      <th>75%</th>\n",
       "      <td>1.000000</td>\n",
       "      <td>3.000000</td>\n",
       "      <td>35.000000</td>\n",
       "      <td>1.000000</td>\n",
       "      <td>0.000000</td>\n",
       "      <td>31.000000</td>\n",
       "      <td>2.000000</td>\n",
       "      <td>1.000000</td>\n",
       "      <td>1.000000</td>\n",
       "      <td>0.000000</td>\n",
       "    </tr>\n",
       "    <tr>\n",
       "      <th>max</th>\n",
       "      <td>1.000000</td>\n",
       "      <td>3.000000</td>\n",
       "      <td>80.000000</td>\n",
       "      <td>8.000000</td>\n",
       "      <td>6.000000</td>\n",
       "      <td>512.329200</td>\n",
       "      <td>2.000000</td>\n",
       "      <td>1.000000</td>\n",
       "      <td>100.000000</td>\n",
       "      <td>3.000000</td>\n",
       "    </tr>\n",
       "  </tbody>\n",
       "</table>\n",
       "</div>"
      ],
      "text/plain": [
       "         Survived      Pclass         Age       SibSp       Parch        Fare  \\\n",
       "count  891.000000  891.000000  891.000000  891.000000  891.000000  891.000000   \n",
       "mean     0.383838    2.308642   29.699118    0.523008    0.381594   32.204208   \n",
       "std      0.486592    0.836071   13.002015    1.102743    0.806057   49.693429   \n",
       "min      0.000000    1.000000    0.420000    0.000000    0.000000    0.000000   \n",
       "25%      0.000000    2.000000   22.000000    0.000000    0.000000    7.910400   \n",
       "50%      0.000000    3.000000   29.699118    0.000000    0.000000   14.454200   \n",
       "75%      1.000000    3.000000   35.000000    1.000000    0.000000   31.000000   \n",
       "max      1.000000    3.000000   80.000000    8.000000    6.000000  512.329200   \n",
       "\n",
       "         Embarked      Gender  FamilyFactor       Title  \n",
       "count  891.000000  891.000000    891.000000  891.000000  \n",
       "mean     1.536476    0.647587      3.418631    0.089787  \n",
       "std      0.791503    0.477990     11.181689    0.362291  \n",
       "min      0.000000    0.000000      0.000000    0.000000  \n",
       "25%      1.000000    0.000000      0.000000    0.000000  \n",
       "50%      2.000000    1.000000      0.000000    0.000000  \n",
       "75%      2.000000    1.000000      1.000000    0.000000  \n",
       "max      2.000000    1.000000    100.000000    3.000000  "
      ]
     },
     "execution_count": 11,
     "metadata": {},
     "output_type": "execute_result"
    }
   ],
   "source": [
    "train_df.describe()"
   ]
  },
  {
   "cell_type": "markdown",
   "metadata": {
    "_cell_guid": "bbf4380d-6c98-00ae-6d04-0412cd242b67"
   },
   "source": [
    "# [AdaBoost (Adaptive Boost)](https://en.wikipedia.org/wiki/AdaBoost)\n",
    "## It's modeling time.\n",
    "Let's create an AdaBoost classifier to model the training data. Adaboost is a meta-algorithm for machine learning. So it's not an actual machine learning model, but rather a way to combine machine learning models. AdaBoost takes an ensemble other machine learning classifiers (e.g. regression, b-trees, random forests, neural networks) and combines them in a weighted fashion to create a new classifier. So it is like taking several weak predictive models and combining them to form one super model.\n",
    "\n",
    "For example, let's say we have 5 neural networks that predict a binary output (0 or 1). So each of the 5 neural nets produce a prediction for us but each is set up in a different way (different layers, different inputs, etc). But, let's say that none of these neural networks are really good predictors. Adaboost is a way to combine all 5 neural networks into a single model that gives a better prediction than any one model alone (the sum is greater than the parts).\n",
    "\n",
    "For binary classifiers, an error rate of 50% is just like flipping a coin-- it's the worse you can do since it is completely random (if you are worse than 50%, then you should just guess the opposite of whatever the model predicts!). Any model that has an error rate close to 50% (e.g. 43%) is considered a \"weak\" predictive model. Any model that is close to a 0% prediction error (e.g. 9%) is considered a \"strong\" predictive model.\n",
    "\n",
    "AdaBoost takes our 5 \"weak\" neural networks, multiplies their output (0-1) by some scaling factor, adds the result, and then determines if that is above a certain threshold. So it's a linear summation of each individual model. It's sort of like the \"Poll the Audience\" lifeline in \"Who Wants to Be a Millionaire?\" Every model gets a vote and the votes are tallied to give a prediction. However, in AdaBoost, each vote is weighted depending on the strength of the voter (i.e. the individual model). So one person might be smart, but a lot of semi-smart people can be geniuses if they work together to come up with an answer."
   ]
  },
  {
   "cell_type": "code",
   "execution_count": 12,
   "metadata": {
    "_cell_guid": "f897f95d-2cd7-d0c3-bff3-542873f22540"
   },
   "outputs": [
    {
     "name": "stdout",
     "output_type": "stream",
     "text": [
      "Training with model. Please WAIT ...\n",
      "Ok. Finished training the model.\n"
     ]
    }
   ],
   "source": [
    "from sklearn.ensemble import RandomForestClassifier, GradientBoostingClassifier, AdaBoostClassifier\n",
    "from sklearn.svm import SVC\n",
    "\n",
    "# The data is now ready to go. So lets fit to the train, then predict to the test!\n",
    "# Convert back to a numpy array\n",
    "train_data = train_df.values\n",
    "train_features = train_data[0::,1::]   # The features to use for the prediction model (e.g. age, family size)\n",
    "train_result = train_data[0::,0]       # The thing the model predicts (i.e. survived)\n",
    "\n",
    "print('Training with model. Please WAIT ...')\n",
    "\n",
    "# Adaboost using a bunch of RandomForest models\n",
    "# SAMME — Stagewise Additive Modeling using a Multi-class Exponential loss function \n",
    "# Zhu, H. Zou, S. Rosset, T. Hastie, “Multi-class AdaBoost”, 2009.\n",
    "# For more info, http://scikit-learn.org/stable/auto_examples/ensemble/plot_adaboost_multiclass.html\n",
    "model = AdaBoostClassifier(RandomForestClassifier(n_estimators = 1000),\n",
    "                         algorithm=\"SAMME\",\n",
    "                         n_estimators=500)\n",
    "\n",
    "# Here's how to do a Random Forest\n",
    "#model = RandomForestClassifier(n_estimators=1000).fit(train_features, train_result)\n",
    "\n",
    "# Here's a support-vector machine model (SVM)\n",
    "#model = SVC(probability=True,random_state=1)\n",
    "\n",
    "# Fit the training data to the Adaboost model\n",
    "model = model.fit(train_features, train_result)\n",
    "\n",
    "print ('Ok. Finished training the model.')"
   ]
  },
  {
   "cell_type": "markdown",
   "metadata": {
    "_cell_guid": "f67be0c3-4bb3-a5a8-a3f5-de0c32210e3e"
   },
   "source": [
    "### Accuracy\n",
    "So how good is this model? Well, compute how well our predictions matched with the known values. This is called accuracy (or conversely error)."
   ]
  },
  {
   "cell_type": "code",
   "execution_count": 13,
   "metadata": {
    "_cell_guid": "b8fa3002-c9ef-8bb7-3889-a91296bea4d1"
   },
   "outputs": [
    {
     "name": "stdout",
     "output_type": "stream",
     "text": [
      "Accuracy = 98.43%\n"
     ]
    }
   ],
   "source": [
    "from sklearn.metrics import accuracy_score\n",
    "\n",
    "print ('Accuracy = {:0.2f}%'.format(100.0 * accuracy_score(train_result, model.predict(train_features))))"
   ]
  },
  {
   "cell_type": "markdown",
   "metadata": {
    "_cell_guid": "4160b8c1-d96c-4dab-d375-38e27fcf83f1"
   },
   "source": [
    "### Cross-validation\n",
    "Your accuracy shows that got a *really* good model, right?\n",
    "\n",
    "Well, not so fast.\n",
    "\n",
    "Accuracy is really deceptive. Remember, you are fitting the curve to the data. You expect a good fit to that data. Sometimes, you can fit the data so well that the model only really works on that specific data set. This is called _overfitting_. So to really test the true accuracy of your brand new model, you need to test the model on new data (i.e. data you didn't train the model on).\n",
    "\n",
    "[Cross validation](http://scikit-learn.org/stable/modules/cross_validation.html) gives you an idea of how good the model predicts new data. The scikit-learn module `model_selection` has a function called `cross_val_score` which returns the accuracy of the model. It does this by randomly splitting your data into two sets (aka k-folds). One set will be used to train the model. The other set will be used to test how accurate that model is. This helps us identify overfitting. Many models can perfectly fit the dataset during training, but be so specific to that dataset that they fail when they see new data."
   ]
  },
  {
   "cell_type": "code",
   "execution_count": 14,
   "metadata": {
    "_cell_guid": "d81deb3a-e71a-e5e0-ab4e-8a45e69d00a7"
   },
   "outputs": [
    {
     "name": "stdout",
     "output_type": "stream",
     "text": [
      "Calculating cross-validation of the training model. Please WAIT ...\n",
      "On average, this model is correct 80.70% (+/- 4.96%) of the time.\n"
     ]
    }
   ],
   "source": [
    "from sklearn.model_selection import cross_val_score\n",
    "\n",
    "# Calculating cross-validation of the training model\n",
    "print ('Calculating cross-validation of the training model. Please WAIT ...')\n",
    "\n",
    "# Cross-validation with k-fold of 5. So this will randomly split the training data into two sets.\n",
    "# It then fits a model to one set and tests it against the other to get an accuracy.\n",
    "# It will do this 5 times and return the average accuracy.\n",
    "scores = cross_val_score(model, train_features, train_result, cv=5)\n",
    "print ( 'On average, this model is correct {:0.2f}% (+/- {:0.2f}%) of the time.'.format(\n",
    "        scores.mean() * 100.0, scores.std() * 2 * 100.0))"
   ]
  },
  {
   "cell_type": "markdown",
   "metadata": {
    "_cell_guid": "80768070-b409-354a-0cd2-54f262944ba6"
   },
   "source": [
    "### How'd you do?\n",
    "Was the cross-validation disappointing? Did the cross-validation accuracy fall? It typically does. This is the science part of data science. To get better accuracy and better predictions, you need to:\n",
    "\n",
    "1. work with the feature set - Do all of your features help in the prediction? Are their transformations in those features which will make them work even better.\n",
    "\n",
    "2. try out new models - Is SVM more appropriate? Neural nets? Random forests? Little bubbly bears?\n",
    "\n",
    "This is where Jupyter shines. You can keep playing with the dataset and the model until you get your best result. And, you can document your process along the way."
   ]
  },
  {
   "cell_type": "markdown",
   "metadata": {
    "_cell_guid": "18dc30d5-4e2c-ab9b-a89b-013de25ac957"
   },
   "source": [
    "### Get the testing data\n",
    "Now read in the test data. That's the data where we don't know the result (i.e. no 'Survived' field). We'll use the trained model on that data to predict the value and send that to Kaggle."
   ]
  },
  {
   "cell_type": "code",
   "execution_count": 15,
   "metadata": {
    "_cell_guid": "b86cdf40-7b0d-ddf9-e678-a649946b69fa"
   },
   "outputs": [
    {
     "name": "stdout",
     "output_type": "stream",
     "text": [
      "<class 'pandas.core.frame.DataFrame'>\n",
      "RangeIndex: 418 entries, 0 to 417\n",
      "Data columns (total 11 columns):\n",
      "PassengerId    418 non-null int64\n",
      "Pclass         418 non-null int64\n",
      "Name           418 non-null object\n",
      "Sex            418 non-null object\n",
      "Age            332 non-null float64\n",
      "SibSp          418 non-null int64\n",
      "Parch          418 non-null int64\n",
      "Ticket         418 non-null object\n",
      "Fare           417 non-null float64\n",
      "Cabin          91 non-null object\n",
      "Embarked       418 non-null object\n",
      "dtypes: float64(2), int64(4), object(5)\n",
      "memory usage: 36.0+ KB\n"
     ]
    }
   ],
   "source": [
    "# Import the test data into a Pandas dataframe\n",
    "test_df = pd.read_csv('../input/test.csv', header=0, dtype={\"Age\": np.float64})        # Load the test file into a dataframe\n",
    "\n",
    "test_df.info()"
   ]
  },
  {
   "cell_type": "markdown",
   "metadata": {
    "_cell_guid": "9b5be18c-cba8-8571-644f-337af88a50f3"
   },
   "source": [
    "### Pre-processing\n",
    "I need to preprocess this data exactly like I pre-processed the training set data. If I don't, then the model won't work correctly."
   ]
  },
  {
   "cell_type": "code",
   "execution_count": 16,
   "metadata": {
    "_cell_guid": "660f72f8-c956-7324-e729-f06578ea3b7b"
   },
   "outputs": [],
   "source": [
    "# Grab the passenger Ids first since they are removed by the pre-processing function\n",
    "testIds = test_df['PassengerId']\n",
    "\n",
    "test_df = preprocessData(test_df)"
   ]
  },
  {
   "cell_type": "markdown",
   "metadata": {
    "_cell_guid": "0564e327-ed8c-4830-254e-236c2bd9537d"
   },
   "source": [
    "### Prediction Time\n",
    "\n",
    "Now use the Testing data and predict the output (survived) based on the model we've created from the training data. Amazingly, this just takes one line. Scikit-learn does the rest for you."
   ]
  },
  {
   "cell_type": "code",
   "execution_count": 17,
   "metadata": {
    "_cell_guid": "f0abaa83-c74a-36f0-5b94-0f167a671421"
   },
   "outputs": [
    {
     "name": "stdout",
     "output_type": "stream",
     "text": [
      "Predicting the survival from the test data. PLEASE WAIT... DONE\n"
     ]
    }
   ],
   "source": [
    "print('Predicting the survival from the test data. PLEASE WAIT... ', end='') # Supress newline with end=''\n",
    "\n",
    "test_predictions = model.predict(test_df.values)\n",
    "\n",
    "print('DONE')"
   ]
  },
  {
   "cell_type": "markdown",
   "metadata": {
    "_cell_guid": "55b1a71b-2ccd-facd-cb0a-ed9755a48042"
   },
   "source": [
    "## Send the predictions to [Kaggle](https://www.kaggle.com/c/titanic)\n",
    "Now that we have the model's predictions on the test data, let's save it in a comma-separated value (csv) file for uploading to [Kaggle](https://www.kaggle.com/c/titanic)."
   ]
  },
  {
   "cell_type": "code",
   "execution_count": 18,
   "metadata": {
    "_cell_guid": "9f2c137e-e26e-222e-151e-232d2fed1800"
   },
   "outputs": [],
   "source": [
    "# Create a new dataframe with only the columns Kaggle wants from the dataset.\n",
    "submission = pd.DataFrame({\"PassengerId\" : testIds.astype(int),\n",
    "                           \"Survived\" : test_predictions.astype(int)})\n",
    "\n",
    "# Save the submission to CSV file\n",
    "submission.to_csv(\"titanic_submission\", index=False)"
   ]
  },
  {
   "cell_type": "markdown",
   "metadata": {
    "_cell_guid": "9062df68-f439-6ddb-5f9b-50be27cd889a",
    "collapsed": true
   },
   "source": [
    "## You're done.\n",
    "Now you just need to upload the file `titanic_submission` to Kaggle and see how you do. \n",
    "\n",
    "A very simple prediction model can usually score with about a 70-80% accuracy. By playing around with models and features, you can bump that performance up to about 90%."
   ]
  },
  {
   "cell_type": "code",
   "execution_count": 19,
   "metadata": {
    "_cell_guid": "c31d3373-f041-9870-911b-130fcb12222b",
    "collapsed": true
   },
   "outputs": [],
   "source": []
  }
 ],
 "metadata": {
  "_change_revision": 15,
  "_is_fork": false,
  "kernelspec": {
   "display_name": "Python 3",
   "language": "python",
   "name": "python3"
  },
  "language_info": {
   "codemirror_mode": {
    "name": "ipython",
    "version": 3
   },
   "file_extension": ".py",
   "mimetype": "text/x-python",
   "name": "python",
   "nbconvert_exporter": "python",
   "pygments_lexer": "ipython3",
   "version": "3.5.2"
  }
 },
 "nbformat": 4,
 "nbformat_minor": 0
}
